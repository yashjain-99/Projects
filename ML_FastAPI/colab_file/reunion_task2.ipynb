{
  "nbformat": 4,
  "nbformat_minor": 0,
  "metadata": {
    "colab": {
      "provenance": []
    },
    "kernelspec": {
      "name": "python3",
      "display_name": "Python 3"
    },
    "language_info": {
      "name": "python"
    }
  },
  "cells": [
    {
      "cell_type": "markdown",
      "source": [
        "By Yash Jain (yashj133.yj@gmail.com)"
      ],
      "metadata": {
        "id": "QWghes7B5KxX"
      }
    },
    {
      "cell_type": "markdown",
      "source": [
        "Task1: https://colab.research.google.com/drive/1vkqoj-lzdnP8Yyt9MLn6Lgs2ZTXjxj-A?usp=sharing"
      ],
      "metadata": {
        "id": "936noLZn5QTn"
      }
    },
    {
      "cell_type": "markdown",
      "source": [
        "### Table of content:\n",
        ">1. [Importing Libraries and load data](#1)\n",
        ">2. [Preprocess data (Remove unwanted cols, adjust skewness, perform standard scaler, one hot encoding and split data into train and test)](#2)\n",
        ">3. [Try fitting data into various models to findout best performing one](#3)\n",
        ">4. [Tune best performing model to get better result](#4)\n",
        ">5. [Prepare deployment script](#5) "
      ],
      "metadata": {
        "id": "IKon_IET4bbn"
      }
    },
    {
      "cell_type": "markdown",
      "source": [
        "<a name=\"1\"></a>\n",
        "Importing libraries"
      ],
      "metadata": {
        "id": "1PtoCR3pjU_d"
      }
    },
    {
      "cell_type": "code",
      "execution_count": null,
      "metadata": {
        "id": "vuqsuqjGWf6S"
      },
      "outputs": [],
      "source": [
        "import pandas as pd\n",
        "import numpy as np\n",
        "import seaborn as sns\n",
        "import matplotlib.pyplot as plt\n",
        "from sklearn.preprocessing import StandardScaler, OneHotEncoder\n",
        "from sklearn.model_selection import train_test_split, KFold, cross_val_score # to split the data\n",
        "from sklearn.metrics import accuracy_score, confusion_matrix, classification_report, fbeta_score #To evaluate our model\n",
        "\n",
        "from sklearn.model_selection import GridSearchCV\n",
        "\n",
        "# Algorithmns models to be compared\n",
        "from sklearn.ensemble import RandomForestClassifier\n",
        "from sklearn.linear_model import LogisticRegression\n",
        "from sklearn.tree import DecisionTreeClassifier\n",
        "from sklearn.neighbors import KNeighborsClassifier\n",
        "from sklearn.ensemble import RandomForestClassifier\n",
        "from sklearn.discriminant_analysis import LinearDiscriminantAnalysis\n",
        "from sklearn.naive_bayes import GaussianNB\n",
        "from sklearn.svm import SVC\n",
        "from xgboost import XGBClassifier\n",
        "\n",
        "from sklearn.pipeline import Pipeline\n",
        "from sklearn.pipeline import FeatureUnion\n",
        "from sklearn.decomposition import PCA\n",
        "from sklearn.feature_selection import SelectKBest\n",
        "\n",
        "from joblib import dump, load"
      ]
    },
    {
      "cell_type": "markdown",
      "source": [
        "Loading csv files into dataframe and merging them"
      ],
      "metadata": {
        "id": "55B0btEBjZVq"
      }
    },
    {
      "cell_type": "code",
      "source": [
        "df_loan = pd.read_csv('/content/loan.csv')\n",
        "df_app = pd.read_csv('/content/applicant.csv')\n",
        "df_merged = pd.merge(df_loan, df_app, on=\"applicant_id\")"
      ],
      "metadata": {
        "id": "Pa1t9CP5cY2Q"
      },
      "execution_count": null,
      "outputs": []
    },
    {
      "cell_type": "code",
      "source": [
        "df_merged.head()"
      ],
      "metadata": {
        "colab": {
          "base_uri": "https://localhost:8080/",
          "height": 473
        },
        "id": "AG2WIk6Rch4l",
        "outputId": "0c3278cd-adf3-40a2-eb82-d4edf56b1eb5"
      },
      "execution_count": null,
      "outputs": [
        {
          "output_type": "execute_result",
          "data": {
            "text/plain": [
              "                    loan_application_id  applicant_id  Months_loan_taken_for  \\\n",
              "0  d68d975e-edad-11ea-8761-1d6f9c1ff461       1469590                      6   \n",
              "1  d68d989e-edad-11ea-b1d5-2bcf65006448       1203873                     48   \n",
              "2  d68d995c-edad-11ea-814a-1b6716782575       1432761                     12   \n",
              "3  d68d99fc-edad-11ea-8841-17e8848060ae       1207582                     42   \n",
              "4  d68d9a92-edad-11ea-9f3d-1f8682db006a       1674436                     24   \n",
              "\n",
              "                Purpose  Principal_loan_amount  \\\n",
              "0  electronic equipment                1169000   \n",
              "1  electronic equipment                5951000   \n",
              "2             education                2096000   \n",
              "3                  FF&E                7882000   \n",
              "4           new vehicle                4870000   \n",
              "\n",
              "   EMI_rate_in_percentage_of_disposable_income  \\\n",
              "0                                            4   \n",
              "1                                            2   \n",
              "2                                            2   \n",
              "3                                            2   \n",
              "4                                            3   \n",
              "\n",
              "                                            Property  Has_coapplicant  \\\n",
              "0                                        real estate                0   \n",
              "1                                        real estate                0   \n",
              "2                                        real estate                0   \n",
              "3  building society savings agreement/life insurance                0   \n",
              "4                                                NaN                0   \n",
              "\n",
              "   Has_guarantor Other_EMI_plans  ...   Housing Years_at_current_residence  \\\n",
              "0              0             NaN  ...       own                          4   \n",
              "1              0             NaN  ...       own                          2   \n",
              "2              0             NaN  ...       own                          3   \n",
              "3              1             NaN  ...  for free                          4   \n",
              "4              0             NaN  ...  for free                          4   \n",
              "\n",
              "             Employment_status  Has_been_employed_for_at_least  \\\n",
              "0  skilled employee / official                         7 years   \n",
              "1  skilled employee / official                          1 year   \n",
              "2         unskilled - resident                         4 years   \n",
              "3  skilled employee / official                         4 years   \n",
              "4  skilled employee / official                          1 year   \n",
              "\n",
              "  Has_been_employed_for_at_most                              Telephone  \\\n",
              "0                           NaN  Registered under the applicant's name   \n",
              "1                       4 years                                    NaN   \n",
              "2                       7 years                                    NaN   \n",
              "3                       7 years                                    NaN   \n",
              "4                       4 years                                    NaN   \n",
              "\n",
              "   Foreign_worker Savings_account_balance  \\\n",
              "0               1                     NaN   \n",
              "1               1                     Low   \n",
              "2               1                     Low   \n",
              "3               1                     Low   \n",
              "4               1                     Low   \n",
              "\n",
              "   Balance_in_existing_bank_account_(lower_limit_of_bucket)  \\\n",
              "0                                                NaN          \n",
              "1                                                  0          \n",
              "2                                                NaN          \n",
              "3                                                NaN          \n",
              "4                                                NaN          \n",
              "\n",
              "  Balance_in_existing_bank_account_(upper_limit_of_bucket)  \n",
              "0                                                  0        \n",
              "1                                              2 lac        \n",
              "2                                                NaN        \n",
              "3                                                  0        \n",
              "4                                                  0        \n",
              "\n",
              "[5 rows x 27 columns]"
            ],
            "text/html": [
              "\n",
              "  <div id=\"df-44fa4b5e-137b-4fad-9ef0-81696683e3a3\">\n",
              "    <div class=\"colab-df-container\">\n",
              "      <div>\n",
              "<style scoped>\n",
              "    .dataframe tbody tr th:only-of-type {\n",
              "        vertical-align: middle;\n",
              "    }\n",
              "\n",
              "    .dataframe tbody tr th {\n",
              "        vertical-align: top;\n",
              "    }\n",
              "\n",
              "    .dataframe thead th {\n",
              "        text-align: right;\n",
              "    }\n",
              "</style>\n",
              "<table border=\"1\" class=\"dataframe\">\n",
              "  <thead>\n",
              "    <tr style=\"text-align: right;\">\n",
              "      <th></th>\n",
              "      <th>loan_application_id</th>\n",
              "      <th>applicant_id</th>\n",
              "      <th>Months_loan_taken_for</th>\n",
              "      <th>Purpose</th>\n",
              "      <th>Principal_loan_amount</th>\n",
              "      <th>EMI_rate_in_percentage_of_disposable_income</th>\n",
              "      <th>Property</th>\n",
              "      <th>Has_coapplicant</th>\n",
              "      <th>Has_guarantor</th>\n",
              "      <th>Other_EMI_plans</th>\n",
              "      <th>...</th>\n",
              "      <th>Housing</th>\n",
              "      <th>Years_at_current_residence</th>\n",
              "      <th>Employment_status</th>\n",
              "      <th>Has_been_employed_for_at_least</th>\n",
              "      <th>Has_been_employed_for_at_most</th>\n",
              "      <th>Telephone</th>\n",
              "      <th>Foreign_worker</th>\n",
              "      <th>Savings_account_balance</th>\n",
              "      <th>Balance_in_existing_bank_account_(lower_limit_of_bucket)</th>\n",
              "      <th>Balance_in_existing_bank_account_(upper_limit_of_bucket)</th>\n",
              "    </tr>\n",
              "  </thead>\n",
              "  <tbody>\n",
              "    <tr>\n",
              "      <th>0</th>\n",
              "      <td>d68d975e-edad-11ea-8761-1d6f9c1ff461</td>\n",
              "      <td>1469590</td>\n",
              "      <td>6</td>\n",
              "      <td>electronic equipment</td>\n",
              "      <td>1169000</td>\n",
              "      <td>4</td>\n",
              "      <td>real estate</td>\n",
              "      <td>0</td>\n",
              "      <td>0</td>\n",
              "      <td>NaN</td>\n",
              "      <td>...</td>\n",
              "      <td>own</td>\n",
              "      <td>4</td>\n",
              "      <td>skilled employee / official</td>\n",
              "      <td>7 years</td>\n",
              "      <td>NaN</td>\n",
              "      <td>Registered under the applicant's name</td>\n",
              "      <td>1</td>\n",
              "      <td>NaN</td>\n",
              "      <td>NaN</td>\n",
              "      <td>0</td>\n",
              "    </tr>\n",
              "    <tr>\n",
              "      <th>1</th>\n",
              "      <td>d68d989e-edad-11ea-b1d5-2bcf65006448</td>\n",
              "      <td>1203873</td>\n",
              "      <td>48</td>\n",
              "      <td>electronic equipment</td>\n",
              "      <td>5951000</td>\n",
              "      <td>2</td>\n",
              "      <td>real estate</td>\n",
              "      <td>0</td>\n",
              "      <td>0</td>\n",
              "      <td>NaN</td>\n",
              "      <td>...</td>\n",
              "      <td>own</td>\n",
              "      <td>2</td>\n",
              "      <td>skilled employee / official</td>\n",
              "      <td>1 year</td>\n",
              "      <td>4 years</td>\n",
              "      <td>NaN</td>\n",
              "      <td>1</td>\n",
              "      <td>Low</td>\n",
              "      <td>0</td>\n",
              "      <td>2 lac</td>\n",
              "    </tr>\n",
              "    <tr>\n",
              "      <th>2</th>\n",
              "      <td>d68d995c-edad-11ea-814a-1b6716782575</td>\n",
              "      <td>1432761</td>\n",
              "      <td>12</td>\n",
              "      <td>education</td>\n",
              "      <td>2096000</td>\n",
              "      <td>2</td>\n",
              "      <td>real estate</td>\n",
              "      <td>0</td>\n",
              "      <td>0</td>\n",
              "      <td>NaN</td>\n",
              "      <td>...</td>\n",
              "      <td>own</td>\n",
              "      <td>3</td>\n",
              "      <td>unskilled - resident</td>\n",
              "      <td>4 years</td>\n",
              "      <td>7 years</td>\n",
              "      <td>NaN</td>\n",
              "      <td>1</td>\n",
              "      <td>Low</td>\n",
              "      <td>NaN</td>\n",
              "      <td>NaN</td>\n",
              "    </tr>\n",
              "    <tr>\n",
              "      <th>3</th>\n",
              "      <td>d68d99fc-edad-11ea-8841-17e8848060ae</td>\n",
              "      <td>1207582</td>\n",
              "      <td>42</td>\n",
              "      <td>FF&amp;E</td>\n",
              "      <td>7882000</td>\n",
              "      <td>2</td>\n",
              "      <td>building society savings agreement/life insurance</td>\n",
              "      <td>0</td>\n",
              "      <td>1</td>\n",
              "      <td>NaN</td>\n",
              "      <td>...</td>\n",
              "      <td>for free</td>\n",
              "      <td>4</td>\n",
              "      <td>skilled employee / official</td>\n",
              "      <td>4 years</td>\n",
              "      <td>7 years</td>\n",
              "      <td>NaN</td>\n",
              "      <td>1</td>\n",
              "      <td>Low</td>\n",
              "      <td>NaN</td>\n",
              "      <td>0</td>\n",
              "    </tr>\n",
              "    <tr>\n",
              "      <th>4</th>\n",
              "      <td>d68d9a92-edad-11ea-9f3d-1f8682db006a</td>\n",
              "      <td>1674436</td>\n",
              "      <td>24</td>\n",
              "      <td>new vehicle</td>\n",
              "      <td>4870000</td>\n",
              "      <td>3</td>\n",
              "      <td>NaN</td>\n",
              "      <td>0</td>\n",
              "      <td>0</td>\n",
              "      <td>NaN</td>\n",
              "      <td>...</td>\n",
              "      <td>for free</td>\n",
              "      <td>4</td>\n",
              "      <td>skilled employee / official</td>\n",
              "      <td>1 year</td>\n",
              "      <td>4 years</td>\n",
              "      <td>NaN</td>\n",
              "      <td>1</td>\n",
              "      <td>Low</td>\n",
              "      <td>NaN</td>\n",
              "      <td>0</td>\n",
              "    </tr>\n",
              "  </tbody>\n",
              "</table>\n",
              "<p>5 rows × 27 columns</p>\n",
              "</div>\n",
              "      <button class=\"colab-df-convert\" onclick=\"convertToInteractive('df-44fa4b5e-137b-4fad-9ef0-81696683e3a3')\"\n",
              "              title=\"Convert this dataframe to an interactive table.\"\n",
              "              style=\"display:none;\">\n",
              "        \n",
              "  <svg xmlns=\"http://www.w3.org/2000/svg\" height=\"24px\"viewBox=\"0 0 24 24\"\n",
              "       width=\"24px\">\n",
              "    <path d=\"M0 0h24v24H0V0z\" fill=\"none\"/>\n",
              "    <path d=\"M18.56 5.44l.94 2.06.94-2.06 2.06-.94-2.06-.94-.94-2.06-.94 2.06-2.06.94zm-11 1L8.5 8.5l.94-2.06 2.06-.94-2.06-.94L8.5 2.5l-.94 2.06-2.06.94zm10 10l.94 2.06.94-2.06 2.06-.94-2.06-.94-.94-2.06-.94 2.06-2.06.94z\"/><path d=\"M17.41 7.96l-1.37-1.37c-.4-.4-.92-.59-1.43-.59-.52 0-1.04.2-1.43.59L10.3 9.45l-7.72 7.72c-.78.78-.78 2.05 0 2.83L4 21.41c.39.39.9.59 1.41.59.51 0 1.02-.2 1.41-.59l7.78-7.78 2.81-2.81c.8-.78.8-2.07 0-2.86zM5.41 20L4 18.59l7.72-7.72 1.47 1.35L5.41 20z\"/>\n",
              "  </svg>\n",
              "      </button>\n",
              "      \n",
              "  <style>\n",
              "    .colab-df-container {\n",
              "      display:flex;\n",
              "      flex-wrap:wrap;\n",
              "      gap: 12px;\n",
              "    }\n",
              "\n",
              "    .colab-df-convert {\n",
              "      background-color: #E8F0FE;\n",
              "      border: none;\n",
              "      border-radius: 50%;\n",
              "      cursor: pointer;\n",
              "      display: none;\n",
              "      fill: #1967D2;\n",
              "      height: 32px;\n",
              "      padding: 0 0 0 0;\n",
              "      width: 32px;\n",
              "    }\n",
              "\n",
              "    .colab-df-convert:hover {\n",
              "      background-color: #E2EBFA;\n",
              "      box-shadow: 0px 1px 2px rgba(60, 64, 67, 0.3), 0px 1px 3px 1px rgba(60, 64, 67, 0.15);\n",
              "      fill: #174EA6;\n",
              "    }\n",
              "\n",
              "    [theme=dark] .colab-df-convert {\n",
              "      background-color: #3B4455;\n",
              "      fill: #D2E3FC;\n",
              "    }\n",
              "\n",
              "    [theme=dark] .colab-df-convert:hover {\n",
              "      background-color: #434B5C;\n",
              "      box-shadow: 0px 1px 3px 1px rgba(0, 0, 0, 0.15);\n",
              "      filter: drop-shadow(0px 1px 2px rgba(0, 0, 0, 0.3));\n",
              "      fill: #FFFFFF;\n",
              "    }\n",
              "  </style>\n",
              "\n",
              "      <script>\n",
              "        const buttonEl =\n",
              "          document.querySelector('#df-44fa4b5e-137b-4fad-9ef0-81696683e3a3 button.colab-df-convert');\n",
              "        buttonEl.style.display =\n",
              "          google.colab.kernel.accessAllowed ? 'block' : 'none';\n",
              "\n",
              "        async function convertToInteractive(key) {\n",
              "          const element = document.querySelector('#df-44fa4b5e-137b-4fad-9ef0-81696683e3a3');\n",
              "          const dataTable =\n",
              "            await google.colab.kernel.invokeFunction('convertToInteractive',\n",
              "                                                     [key], {});\n",
              "          if (!dataTable) return;\n",
              "\n",
              "          const docLinkHtml = 'Like what you see? Visit the ' +\n",
              "            '<a target=\"_blank\" href=https://colab.research.google.com/notebooks/data_table.ipynb>data table notebook</a>'\n",
              "            + ' to learn more about interactive tables.';\n",
              "          element.innerHTML = '';\n",
              "          dataTable['output_type'] = 'display_data';\n",
              "          await google.colab.output.renderOutput(dataTable, element);\n",
              "          const docLink = document.createElement('div');\n",
              "          docLink.innerHTML = docLinkHtml;\n",
              "          element.appendChild(docLink);\n",
              "        }\n",
              "      </script>\n",
              "    </div>\n",
              "  </div>\n",
              "  "
            ]
          },
          "metadata": {},
          "execution_count": 5
        }
      ]
    },
    {
      "cell_type": "code",
      "source": [
        "df_merged.info()"
      ],
      "metadata": {
        "colab": {
          "base_uri": "https://localhost:8080/"
        },
        "id": "weXOC2ygcz3A",
        "outputId": "de26a5ff-1e5b-4f98-ec96-56d24f4ba97a"
      },
      "execution_count": null,
      "outputs": [
        {
          "output_type": "stream",
          "name": "stdout",
          "text": [
            "<class 'pandas.core.frame.DataFrame'>\n",
            "Int64Index: 1000 entries, 0 to 999\n",
            "Data columns (total 27 columns):\n",
            " #   Column                                                    Non-Null Count  Dtype \n",
            "---  ------                                                    --------------  ----- \n",
            " 0   loan_application_id                                       1000 non-null   object\n",
            " 1   applicant_id                                              1000 non-null   int64 \n",
            " 2   Months_loan_taken_for                                     1000 non-null   int64 \n",
            " 3   Purpose                                                   988 non-null    object\n",
            " 4   Principal_loan_amount                                     1000 non-null   int64 \n",
            " 5   EMI_rate_in_percentage_of_disposable_income               1000 non-null   int64 \n",
            " 6   Property                                                  846 non-null    object\n",
            " 7   Has_coapplicant                                           1000 non-null   int64 \n",
            " 8   Has_guarantor                                             1000 non-null   int64 \n",
            " 9   Other_EMI_plans                                           186 non-null    object\n",
            " 10  Number_of_existing_loans_at_this_bank                     1000 non-null   int64 \n",
            " 11  Loan_history                                              1000 non-null   object\n",
            " 12  high_risk_applicant                                       1000 non-null   int64 \n",
            " 13  Primary_applicant_age_in_years                            1000 non-null   int64 \n",
            " 14  Gender                                                    1000 non-null   object\n",
            " 15  Marital_status                                            1000 non-null   object\n",
            " 16  Number_of_dependents                                      1000 non-null   int64 \n",
            " 17  Housing                                                   1000 non-null   object\n",
            " 18  Years_at_current_residence                                1000 non-null   int64 \n",
            " 19  Employment_status                                         1000 non-null   object\n",
            " 20  Has_been_employed_for_at_least                            938 non-null    object\n",
            " 21  Has_been_employed_for_at_most                             747 non-null    object\n",
            " 22  Telephone                                                 404 non-null    object\n",
            " 23  Foreign_worker                                            1000 non-null   int64 \n",
            " 24  Savings_account_balance                                   817 non-null    object\n",
            " 25  Balance_in_existing_bank_account_(lower_limit_of_bucket)  332 non-null    object\n",
            " 26  Balance_in_existing_bank_account_(upper_limit_of_bucket)  543 non-null    object\n",
            "dtypes: int64(12), object(15)\n",
            "memory usage: 218.8+ KB\n"
          ]
        }
      ]
    },
    {
      "cell_type": "markdown",
      "source": [
        "<a name=\"2\"></a>\n",
        "Removing unwanted columns"
      ],
      "metadata": {
        "id": "d4OBWhKmjhQV"
      }
    },
    {
      "cell_type": "code",
      "source": [
        "df_merged.drop(columns=[\"loan_application_id\",\"applicant_id\",\"Other_EMI_plans\", \"Telephone\", \"Balance_in_existing_bank_account_(lower_limit_of_bucket)\", \"Balance_in_existing_bank_account_(upper_limit_of_bucket)\"], axis=1, inplace=True)"
      ],
      "metadata": {
        "id": "wyyXdzIHcmxB"
      },
      "execution_count": null,
      "outputs": []
    },
    {
      "cell_type": "markdown",
      "source": [
        "fillna for categorical columns with mode value"
      ],
      "metadata": {
        "id": "EKJdZzlajm_9"
      }
    },
    {
      "cell_type": "code",
      "source": [
        "cat_cols=list(df_merged.select_dtypes(include = 'object').columns)\n",
        "for cat_col in cat_cols:\n",
        "  df_merged[cat_col].fillna(df_merged[cat_col].value_counts().index[0], inplace=True)"
      ],
      "metadata": {
        "id": "SvF0cK-SdDZo"
      },
      "execution_count": null,
      "outputs": []
    },
    {
      "cell_type": "markdown",
      "source": [
        "fillna for continous columns with mean value"
      ],
      "metadata": {
        "id": "pyc6GoRKju-K"
      }
    },
    {
      "cell_type": "code",
      "source": [
        "num_cols=[i for i in df_merged.columns if i not in cat_cols]\n",
        "for num_col in num_cols:\n",
        "  df_merged[num_col].fillna(df_merged[num_col].mean(), inplace=True)"
      ],
      "metadata": {
        "id": "eRlhoIEMdIi6"
      },
      "execution_count": null,
      "outputs": []
    },
    {
      "cell_type": "code",
      "source": [
        "df_merged.info()"
      ],
      "metadata": {
        "colab": {
          "base_uri": "https://localhost:8080/"
        },
        "id": "_4XuUnNAdAVs",
        "outputId": "cc2d52ad-72cf-4733-94c4-18eda13bf458"
      },
      "execution_count": null,
      "outputs": [
        {
          "output_type": "stream",
          "name": "stdout",
          "text": [
            "<class 'pandas.core.frame.DataFrame'>\n",
            "Int64Index: 1000 entries, 0 to 999\n",
            "Data columns (total 21 columns):\n",
            " #   Column                                       Non-Null Count  Dtype \n",
            "---  ------                                       --------------  ----- \n",
            " 0   Months_loan_taken_for                        1000 non-null   int64 \n",
            " 1   Purpose                                      1000 non-null   object\n",
            " 2   Principal_loan_amount                        1000 non-null   int64 \n",
            " 3   EMI_rate_in_percentage_of_disposable_income  1000 non-null   int64 \n",
            " 4   Property                                     1000 non-null   object\n",
            " 5   Has_coapplicant                              1000 non-null   int64 \n",
            " 6   Has_guarantor                                1000 non-null   int64 \n",
            " 7   Number_of_existing_loans_at_this_bank        1000 non-null   int64 \n",
            " 8   Loan_history                                 1000 non-null   object\n",
            " 9   high_risk_applicant                          1000 non-null   int64 \n",
            " 10  Primary_applicant_age_in_years               1000 non-null   int64 \n",
            " 11  Gender                                       1000 non-null   object\n",
            " 12  Marital_status                               1000 non-null   object\n",
            " 13  Number_of_dependents                         1000 non-null   int64 \n",
            " 14  Housing                                      1000 non-null   object\n",
            " 15  Years_at_current_residence                   1000 non-null   int64 \n",
            " 16  Employment_status                            1000 non-null   object\n",
            " 17  Has_been_employed_for_at_least               1000 non-null   object\n",
            " 18  Has_been_employed_for_at_most                1000 non-null   object\n",
            " 19  Foreign_worker                               1000 non-null   int64 \n",
            " 20  Savings_account_balance                      1000 non-null   object\n",
            "dtypes: int64(11), object(10)\n",
            "memory usage: 171.9+ KB\n"
          ]
        }
      ]
    },
    {
      "cell_type": "markdown",
      "source": [
        "Selecting continous columns"
      ],
      "metadata": {
        "id": "Ars5a6n-j7PO"
      }
    },
    {
      "cell_type": "code",
      "source": [
        "selected_cols = [\"Months_loan_taken_for\",\"Principal_loan_amount\", \"Primary_applicant_age_in_years\"]\n",
        "num_col_data = df_merged.loc[:,selected_cols]"
      ],
      "metadata": {
        "id": "uOA5iaFmW5O8"
      },
      "execution_count": null,
      "outputs": []
    },
    {
      "cell_type": "markdown",
      "source": [
        "Plotting distplot to check skewness"
      ],
      "metadata": {
        "id": "AdyHQGOYkJdR"
      }
    },
    {
      "cell_type": "code",
      "source": [
        "def distributions(df):\n",
        "    fig, (ax1, ax2, ax3) = plt.subplots(3,1, figsize=(8,8))\n",
        "    sns.distplot(df[\"Months_loan_taken_for\"], ax=ax1)\n",
        "    sns.distplot(df[\"Principal_loan_amount\"], ax=ax2)\n",
        "    sns.distplot(df[\"Primary_applicant_age_in_years\"], ax=ax3)\n",
        "    plt.tight_layout()"
      ],
      "metadata": {
        "id": "2aVkHddBda9h"
      },
      "execution_count": null,
      "outputs": []
    },
    {
      "cell_type": "code",
      "source": [
        "distributions(num_col_data)"
      ],
      "metadata": {
        "colab": {
          "base_uri": "https://localhost:8080/",
          "height": 709
        },
        "id": "My_1SdA1hwUy",
        "outputId": "e079d401-d3d7-46eb-9a4a-f4920cc969c4"
      },
      "execution_count": null,
      "outputs": [
        {
          "output_type": "stream",
          "name": "stderr",
          "text": [
            "/usr/local/lib/python3.8/dist-packages/seaborn/distributions.py:2619: FutureWarning: `distplot` is a deprecated function and will be removed in a future version. Please adapt your code to use either `displot` (a figure-level function with similar flexibility) or `histplot` (an axes-level function for histograms).\n",
            "  warnings.warn(msg, FutureWarning)\n",
            "/usr/local/lib/python3.8/dist-packages/seaborn/distributions.py:2619: FutureWarning: `distplot` is a deprecated function and will be removed in a future version. Please adapt your code to use either `displot` (a figure-level function with similar flexibility) or `histplot` (an axes-level function for histograms).\n",
            "  warnings.warn(msg, FutureWarning)\n",
            "/usr/local/lib/python3.8/dist-packages/seaborn/distributions.py:2619: FutureWarning: `distplot` is a deprecated function and will be removed in a future version. Please adapt your code to use either `displot` (a figure-level function with similar flexibility) or `histplot` (an axes-level function for histograms).\n",
            "  warnings.warn(msg, FutureWarning)\n"
          ]
        },
        {
          "output_type": "display_data",
          "data": {
            "text/plain": [
              "<Figure size 576x576 with 3 Axes>"
            ],
            "image/png": "[encoded data removed]"
          },
          "metadata": {
            "needs_background": "light"
          }
        }
      ]
    },
    {
      "cell_type": "markdown",
      "source": [
        "We see records are skewed, so apply log onto it to remove skewness"
      ],
      "metadata": {
        "id": "nyalHLsokPUt"
      }
    },
    {
      "cell_type": "code",
      "source": [
        "log_num_data = np.log(num_col_data)\n",
        "distributions(log_num_data)"
      ],
      "metadata": {
        "colab": {
          "base_uri": "https://localhost:8080/",
          "height": 709
        },
        "id": "LY6hiLunh4eQ",
        "outputId": "cc6a3c74-cd83-443a-e738-bcd32bfaad4e"
      },
      "execution_count": null,
      "outputs": [
        {
          "output_type": "stream",
          "name": "stderr",
          "text": [
            "/usr/local/lib/python3.8/dist-packages/seaborn/distributions.py:2619: FutureWarning: `distplot` is a deprecated function and will be removed in a future version. Please adapt your code to use either `displot` (a figure-level function with similar flexibility) or `histplot` (an axes-level function for histograms).\n",
            "  warnings.warn(msg, FutureWarning)\n",
            "/usr/local/lib/python3.8/dist-packages/seaborn/distributions.py:2619: FutureWarning: `distplot` is a deprecated function and will be removed in a future version. Please adapt your code to use either `displot` (a figure-level function with similar flexibility) or `histplot` (an axes-level function for histograms).\n",
            "  warnings.warn(msg, FutureWarning)\n",
            "/usr/local/lib/python3.8/dist-packages/seaborn/distributions.py:2619: FutureWarning: `distplot` is a deprecated function and will be removed in a future version. Please adapt your code to use either `displot` (a figure-level function with similar flexibility) or `histplot` (an axes-level function for histograms).\n",
            "  warnings.warn(msg, FutureWarning)\n"
          ]
        },
        {
          "output_type": "display_data",
          "data": {
            "text/plain": [
              "<Figure size 576x576 with 3 Axes>"
            ],
            "image/png": "[encoded data removed]"
          },
          "metadata": {
            "needs_background": "light"
          }
        }
      ]
    },
    {
      "cell_type": "markdown",
      "source": [
        "Apply standard scaler onto skewed records"
      ],
      "metadata": {
        "id": "I9zSDlETkYnK"
      }
    },
    {
      "cell_type": "code",
      "source": [
        "scaler = StandardScaler()\n",
        "scaled_num_data = pd.DataFrame(scaler.fit_transform(log_num_data), columns=selected_cols)"
      ],
      "metadata": {
        "id": "Z7NlI5nsiAxt"
      },
      "execution_count": null,
      "outputs": []
    },
    {
      "cell_type": "code",
      "source": [
        "scaled_num_data"
      ],
      "metadata": {
        "colab": {
          "base_uri": "https://localhost:8080/",
          "height": 424
        },
        "id": "-DSCvwhyjFlv",
        "outputId": "223d5938-c364-412d-deac-4ef1e4a92314"
      },
      "execution_count": null,
      "outputs": [
        {
          "output_type": "execute_result",
          "data": {
            "text/plain": [
              "     Months_loan_taken_for  Principal_loan_amount  \\\n",
              "0                -1.864869              -0.933901   \n",
              "1                 1.708369               1.163046   \n",
              "2                -0.673790              -0.181559   \n",
              "3                 1.478913               1.525148   \n",
              "4                 0.517289               0.904743   \n",
              "..                     ...                    ...   \n",
              "995              -0.673790              -0.424376   \n",
              "996               0.900731               0.604255   \n",
              "997              -0.673790              -1.416199   \n",
              "998               1.597468              -0.345911   \n",
              "999               1.597468               0.824508   \n",
              "\n",
              "     Primary_applicant_age_in_years  \n",
              "0                          2.271006  \n",
              "1                         -1.446152  \n",
              "2                          1.226696  \n",
              "3                          0.942455  \n",
              "4                          1.488620  \n",
              "..                              ...  \n",
              "995                       -0.301466  \n",
              "996                        0.549317  \n",
              "997                        0.378110  \n",
              "998                       -1.297780  \n",
              "999                       -0.762586  \n",
              "\n",
              "[1000 rows x 3 columns]"
            ],
            "text/html": [
              "\n",
              "  <div id=\"df-1f318d28-cdd3-41a3-b1b2-0d9a432e694f\">\n",
              "    <div class=\"colab-df-container\">\n",
              "      <div>\n",
              "<style scoped>\n",
              "    .dataframe tbody tr th:only-of-type {\n",
              "        vertical-align: middle;\n",
              "    }\n",
              "\n",
              "    .dataframe tbody tr th {\n",
              "        vertical-align: top;\n",
              "    }\n",
              "\n",
              "    .dataframe thead th {\n",
              "        text-align: right;\n",
              "    }\n",
              "</style>\n",
              "<table border=\"1\" class=\"dataframe\">\n",
              "  <thead>\n",
              "    <tr style=\"text-align: right;\">\n",
              "      <th></th>\n",
              "      <th>Months_loan_taken_for</th>\n",
              "      <th>Principal_loan_amount</th>\n",
              "      <th>Primary_applicant_age_in_years</th>\n",
              "    </tr>\n",
              "  </thead>\n",
              "  <tbody>\n",
              "    <tr>\n",
              "      <th>0</th>\n",
              "      <td>-1.864869</td>\n",
              "      <td>-0.933901</td>\n",
              "      <td>2.271006</td>\n",
              "    </tr>\n",
              "    <tr>\n",
              "      <th>1</th>\n",
              "      <td>1.708369</td>\n",
              "      <td>1.163046</td>\n",
              "      <td>-1.446152</td>\n",
              "    </tr>\n",
              "    <tr>\n",
              "      <th>2</th>\n",
              "      <td>-0.673790</td>\n",
              "      <td>-0.181559</td>\n",
              "      <td>1.226696</td>\n",
              "    </tr>\n",
              "    <tr>\n",
              "      <th>3</th>\n",
              "      <td>1.478913</td>\n",
              "      <td>1.525148</td>\n",
              "      <td>0.942455</td>\n",
              "    </tr>\n",
              "    <tr>\n",
              "      <th>4</th>\n",
              "      <td>0.517289</td>\n",
              "      <td>0.904743</td>\n",
              "      <td>1.488620</td>\n",
              "    </tr>\n",
              "    <tr>\n",
              "      <th>...</th>\n",
              "      <td>...</td>\n",
              "      <td>...</td>\n",
              "      <td>...</td>\n",
              "    </tr>\n",
              "    <tr>\n",
              "      <th>995</th>\n",
              "      <td>-0.673790</td>\n",
              "      <td>-0.424376</td>\n",
              "      <td>-0.301466</td>\n",
              "    </tr>\n",
              "    <tr>\n",
              "      <th>996</th>\n",
              "      <td>0.900731</td>\n",
              "      <td>0.604255</td>\n",
              "      <td>0.549317</td>\n",
              "    </tr>\n",
              "    <tr>\n",
              "      <th>997</th>\n",
              "      <td>-0.673790</td>\n",
              "      <td>-1.416199</td>\n",
              "      <td>0.378110</td>\n",
              "    </tr>\n",
              "    <tr>\n",
              "      <th>998</th>\n",
              "      <td>1.597468</td>\n",
              "      <td>-0.345911</td>\n",
              "      <td>-1.297780</td>\n",
              "    </tr>\n",
              "    <tr>\n",
              "      <th>999</th>\n",
              "      <td>1.597468</td>\n",
              "      <td>0.824508</td>\n",
              "      <td>-0.762586</td>\n",
              "    </tr>\n",
              "  </tbody>\n",
              "</table>\n",
              "<p>1000 rows × 3 columns</p>\n",
              "</div>\n",
              "      <button class=\"colab-df-convert\" onclick=\"convertToInteractive('df-1f318d28-cdd3-41a3-b1b2-0d9a432e694f')\"\n",
              "              title=\"Convert this dataframe to an interactive table.\"\n",
              "              style=\"display:none;\">\n",
              "        \n",
              "  <svg xmlns=\"http://www.w3.org/2000/svg\" height=\"24px\"viewBox=\"0 0 24 24\"\n",
              "       width=\"24px\">\n",
              "    <path d=\"M0 0h24v24H0V0z\" fill=\"none\"/>\n",
              "    <path d=\"M18.56 5.44l.94 2.06.94-2.06 2.06-.94-2.06-.94-.94-2.06-.94 2.06-2.06.94zm-11 1L8.5 8.5l.94-2.06 2.06-.94-2.06-.94L8.5 2.5l-.94 2.06-2.06.94zm10 10l.94 2.06.94-2.06 2.06-.94-2.06-.94-.94-2.06-.94 2.06-2.06.94z\"/><path d=\"M17.41 7.96l-1.37-1.37c-.4-.4-.92-.59-1.43-.59-.52 0-1.04.2-1.43.59L10.3 9.45l-7.72 7.72c-.78.78-.78 2.05 0 2.83L4 21.41c.39.39.9.59 1.41.59.51 0 1.02-.2 1.41-.59l7.78-7.78 2.81-2.81c.8-.78.8-2.07 0-2.86zM5.41 20L4 18.59l7.72-7.72 1.47 1.35L5.41 20z\"/>\n",
              "  </svg>\n",
              "      </button>\n",
              "      \n",
              "  <style>\n",
              "    .colab-df-container {\n",
              "      display:flex;\n",
              "      flex-wrap:wrap;\n",
              "      gap: 12px;\n",
              "    }\n",
              "\n",
              "    .colab-df-convert {\n",
              "      background-color: #E8F0FE;\n",
              "      border: none;\n",
              "      border-radius: 50%;\n",
              "      cursor: pointer;\n",
              "      display: none;\n",
              "      fill: #1967D2;\n",
              "      height: 32px;\n",
              "      padding: 0 0 0 0;\n",
              "      width: 32px;\n",
              "    }\n",
              "\n",
              "    .colab-df-convert:hover {\n",
              "      background-color: #E2EBFA;\n",
              "      box-shadow: 0px 1px 2px rgba(60, 64, 67, 0.3), 0px 1px 3px 1px rgba(60, 64, 67, 0.15);\n",
              "      fill: #174EA6;\n",
              "    }\n",
              "\n",
              "    [theme=dark] .colab-df-convert {\n",
              "      background-color: #3B4455;\n",
              "      fill: #D2E3FC;\n",
              "    }\n",
              "\n",
              "    [theme=dark] .colab-df-convert:hover {\n",
              "      background-color: #434B5C;\n",
              "      box-shadow: 0px 1px 3px 1px rgba(0, 0, 0, 0.15);\n",
              "      filter: drop-shadow(0px 1px 2px rgba(0, 0, 0, 0.3));\n",
              "      fill: #FFFFFF;\n",
              "    }\n",
              "  </style>\n",
              "\n",
              "      <script>\n",
              "        const buttonEl =\n",
              "          document.querySelector('#df-1f318d28-cdd3-41a3-b1b2-0d9a432e694f button.colab-df-convert');\n",
              "        buttonEl.style.display =\n",
              "          google.colab.kernel.accessAllowed ? 'block' : 'none';\n",
              "\n",
              "        async function convertToInteractive(key) {\n",
              "          const element = document.querySelector('#df-1f318d28-cdd3-41a3-b1b2-0d9a432e694f');\n",
              "          const dataTable =\n",
              "            await google.colab.kernel.invokeFunction('convertToInteractive',\n",
              "                                                     [key], {});\n",
              "          if (!dataTable) return;\n",
              "\n",
              "          const docLinkHtml = 'Like what you see? Visit the ' +\n",
              "            '<a target=\"_blank\" href=https://colab.research.google.com/notebooks/data_table.ipynb>data table notebook</a>'\n",
              "            + ' to learn more about interactive tables.';\n",
              "          element.innerHTML = '';\n",
              "          dataTable['output_type'] = 'display_data';\n",
              "          await google.colab.output.renderOutput(dataTable, element);\n",
              "          const docLink = document.createElement('div');\n",
              "          docLink.innerHTML = docLinkHtml;\n",
              "          element.appendChild(docLink);\n",
              "        }\n",
              "      </script>\n",
              "    </div>\n",
              "  </div>\n",
              "  "
            ]
          },
          "metadata": {},
          "execution_count": 16
        }
      ]
    },
    {
      "cell_type": "markdown",
      "source": [
        "Remove repeated columns and merge concat above two dataframes."
      ],
      "metadata": {
        "id": "O2QJi9k7kgRD"
      }
    },
    {
      "cell_type": "code",
      "source": [
        "df_merged.drop(columns=selected_cols, inplace=True, axis=1)"
      ],
      "metadata": {
        "id": "A-KjlLn5jejK"
      },
      "execution_count": null,
      "outputs": []
    },
    {
      "cell_type": "code",
      "source": [
        "df=pd.concat([df_merged,scaled_num_data], axis=1)"
      ],
      "metadata": {
        "id": "0ZA9E-EkkELk"
      },
      "execution_count": null,
      "outputs": []
    },
    {
      "cell_type": "code",
      "source": [
        "df.info()"
      ],
      "metadata": {
        "colab": {
          "base_uri": "https://localhost:8080/"
        },
        "id": "udp56zdCkS_F",
        "outputId": "5d4e80c4-8090-4fb3-bd52-e1253590562f"
      },
      "execution_count": null,
      "outputs": [
        {
          "output_type": "stream",
          "name": "stdout",
          "text": [
            "<class 'pandas.core.frame.DataFrame'>\n",
            "Int64Index: 1000 entries, 0 to 999\n",
            "Data columns (total 21 columns):\n",
            " #   Column                                       Non-Null Count  Dtype  \n",
            "---  ------                                       --------------  -----  \n",
            " 0   Purpose                                      1000 non-null   object \n",
            " 1   EMI_rate_in_percentage_of_disposable_income  1000 non-null   int64  \n",
            " 2   Property                                     1000 non-null   object \n",
            " 3   Has_coapplicant                              1000 non-null   int64  \n",
            " 4   Has_guarantor                                1000 non-null   int64  \n",
            " 5   Number_of_existing_loans_at_this_bank        1000 non-null   int64  \n",
            " 6   Loan_history                                 1000 non-null   object \n",
            " 7   high_risk_applicant                          1000 non-null   int64  \n",
            " 8   Gender                                       1000 non-null   object \n",
            " 9   Marital_status                               1000 non-null   object \n",
            " 10  Number_of_dependents                         1000 non-null   int64  \n",
            " 11  Housing                                      1000 non-null   object \n",
            " 12  Years_at_current_residence                   1000 non-null   int64  \n",
            " 13  Employment_status                            1000 non-null   object \n",
            " 14  Has_been_employed_for_at_least               1000 non-null   object \n",
            " 15  Has_been_employed_for_at_most                1000 non-null   object \n",
            " 16  Foreign_worker                               1000 non-null   int64  \n",
            " 17  Savings_account_balance                      1000 non-null   object \n",
            " 18  Months_loan_taken_for                        1000 non-null   float64\n",
            " 19  Principal_loan_amount                        1000 non-null   float64\n",
            " 20  Primary_applicant_age_in_years               1000 non-null   float64\n",
            "dtypes: float64(3), int64(8), object(10)\n",
            "memory usage: 171.9+ KB\n"
          ]
        }
      ]
    },
    {
      "cell_type": "markdown",
      "source": [
        "Create list of encoded columns name which will be used in one hot encoding"
      ],
      "metadata": {
        "id": "cwc0T_j5koco"
      }
    },
    {
      "cell_type": "code",
      "source": [
        "cat_cols_encoded = []\n",
        "for col in cat_cols:\n",
        "  cat_cols_encoded += [f\"{col[0]}_{cat}\" for cat in list(df[col].unique())]\n",
        "cat_cols_encoded"
      ],
      "metadata": {
        "colab": {
          "base_uri": "https://localhost:8080/"
        },
        "id": "PnBuCCDunN1n",
        "outputId": "734b705b-d2fc-47c2-9057-322b1f069c88"
      },
      "execution_count": null,
      "outputs": [
        {
          "output_type": "execute_result",
          "data": {
            "text/plain": [
              "['P_electronic equipment',\n",
              " 'P_education',\n",
              " 'P_FF&E',\n",
              " 'P_new vehicle',\n",
              " 'P_used vehicle',\n",
              " 'P_business',\n",
              " 'P_domestic appliances',\n",
              " 'P_repair costs',\n",
              " 'P_career development',\n",
              " 'P_real estate',\n",
              " 'P_building society savings agreement/life insurance',\n",
              " 'P_car or other',\n",
              " 'L_critical/pending loans at other banks',\n",
              " 'L_existing loans paid back duly till now',\n",
              " 'L_delay in paying off loans in the past',\n",
              " 'L_no loans taken/all loans paid back duly',\n",
              " 'L_all loans at this bank paid back duly',\n",
              " 'G_male',\n",
              " 'G_female',\n",
              " 'M_single',\n",
              " 'M_divorced/separated/married',\n",
              " 'M_divorced/separated',\n",
              " 'M_married/widowed',\n",
              " 'H_own',\n",
              " 'H_for free',\n",
              " 'H_rent',\n",
              " 'E_skilled employee / official',\n",
              " 'E_unskilled - resident',\n",
              " 'E_management / self-employed / highly qualified employee / officer',\n",
              " 'E_unemployed / unskilled - non-resident',\n",
              " 'H_7 years',\n",
              " 'H_1 year',\n",
              " 'H_4 years',\n",
              " 'H_0 year',\n",
              " 'H_4 years',\n",
              " 'H_7 years',\n",
              " 'H_0 year',\n",
              " 'H_1 year',\n",
              " 'S_Low',\n",
              " 'S_High',\n",
              " 'S_Very high',\n",
              " 'S_Medium']"
            ]
          },
          "metadata": {},
          "execution_count": 20
        }
      ]
    },
    {
      "cell_type": "markdown",
      "source": [
        "Perform one hot encoding on categorical columns"
      ],
      "metadata": {
        "id": "3TyjxoEmkzOZ"
      }
    },
    {
      "cell_type": "code",
      "source": [
        "oh_encoder = OneHotEncoder(sparse=False, handle_unknown='ignore')\n",
        "encoded_cols = oh_encoder.fit_transform(df[cat_cols])\n",
        "df_enc = pd.DataFrame(encoded_cols, columns=cat_cols_encoded)"
      ],
      "metadata": {
        "id": "F_oPnnBPmAD0"
      },
      "execution_count": null,
      "outputs": []
    },
    {
      "cell_type": "markdown",
      "source": [
        "Remove repeated column"
      ],
      "metadata": {
        "id": "13IyzSTok5Dz"
      }
    },
    {
      "cell_type": "code",
      "source": [
        "df.drop(columns=cat_cols, inplace=True, axis=1)"
      ],
      "metadata": {
        "id": "PELaUiotnCHd"
      },
      "execution_count": null,
      "outputs": []
    },
    {
      "cell_type": "code",
      "source": [
        "df_final=pd.concat([df,df_enc], axis=1)\n",
        "df_final"
      ],
      "metadata": {
        "colab": {
          "base_uri": "https://localhost:8080/",
          "height": 505
        },
        "id": "x7mAOfHZnjv5",
        "outputId": "67eb7118-2aef-4c6b-d358-4c5fdfc90aad"
      },
      "execution_count": null,
      "outputs": [
        {
          "output_type": "execute_result",
          "data": {
            "text/plain": [
              "     EMI_rate_in_percentage_of_disposable_income  Has_coapplicant  \\\n",
              "0                                              4                0   \n",
              "1                                              2                0   \n",
              "2                                              2                0   \n",
              "3                                              2                0   \n",
              "4                                              3                0   \n",
              "..                                           ...              ...   \n",
              "995                                            3                0   \n",
              "996                                            4                0   \n",
              "997                                            4                0   \n",
              "998                                            4                0   \n",
              "999                                            3                0   \n",
              "\n",
              "     Has_guarantor  Number_of_existing_loans_at_this_bank  \\\n",
              "0                0                                      2   \n",
              "1                0                                      1   \n",
              "2                0                                      1   \n",
              "3                1                                      1   \n",
              "4                0                                      2   \n",
              "..             ...                                    ...   \n",
              "995              0                                      1   \n",
              "996              0                                      1   \n",
              "997              0                                      1   \n",
              "998              0                                      1   \n",
              "999              0                                      1   \n",
              "\n",
              "     high_risk_applicant  Number_of_dependents  Years_at_current_residence  \\\n",
              "0                      0                     1                           4   \n",
              "1                      1                     1                           2   \n",
              "2                      0                     2                           3   \n",
              "3                      0                     2                           4   \n",
              "4                      1                     2                           4   \n",
              "..                   ...                   ...                         ...   \n",
              "995                    0                     1                           4   \n",
              "996                    0                     1                           4   \n",
              "997                    0                     1                           4   \n",
              "998                    1                     1                           4   \n",
              "999                    0                     1                           4   \n",
              "\n",
              "     Foreign_worker  Months_loan_taken_for  Principal_loan_amount  ...  \\\n",
              "0                 1              -1.864869              -0.933901  ...   \n",
              "1                 1               1.708369               1.163046  ...   \n",
              "2                 1              -0.673790              -0.181559  ...   \n",
              "3                 1               1.478913               1.525148  ...   \n",
              "4                 1               0.517289               0.904743  ...   \n",
              "..              ...                    ...                    ...  ...   \n",
              "995               1              -0.673790              -0.424376  ...   \n",
              "996               1               0.900731               0.604255  ...   \n",
              "997               1              -0.673790              -1.416199  ...   \n",
              "998               1               1.597468              -0.345911  ...   \n",
              "999               1               1.597468               0.824508  ...   \n",
              "\n",
              "     H_4 years  H_0 year  H_4 years  H_7 years  H_0 year  H_1 year  S_Low  \\\n",
              "0          0.0       1.0        0.0        0.0       1.0       0.0    0.0   \n",
              "1          0.0       0.0        0.0        0.0       1.0       0.0    0.0   \n",
              "2          1.0       0.0        0.0        0.0       0.0       1.0    0.0   \n",
              "3          1.0       0.0        0.0        0.0       0.0       1.0    0.0   \n",
              "4          0.0       0.0        0.0        0.0       1.0       0.0    0.0   \n",
              "..         ...       ...        ...        ...       ...       ...    ...   \n",
              "995        1.0       0.0        0.0        0.0       0.0       1.0    0.0   \n",
              "996        0.0       0.0        0.0        0.0       1.0       0.0    0.0   \n",
              "997        0.0       1.0        0.0        0.0       1.0       0.0    0.0   \n",
              "998        0.0       0.0        0.0        0.0       1.0       0.0    0.0   \n",
              "999        0.0       0.0        1.0        0.0       0.0       0.0    0.0   \n",
              "\n",
              "     S_High  S_Very high  S_Medium  \n",
              "0       1.0          0.0       0.0  \n",
              "1       1.0          0.0       0.0  \n",
              "2       1.0          0.0       0.0  \n",
              "3       1.0          0.0       0.0  \n",
              "4       1.0          0.0       0.0  \n",
              "..      ...          ...       ...  \n",
              "995     1.0          0.0       0.0  \n",
              "996     1.0          0.0       0.0  \n",
              "997     1.0          0.0       0.0  \n",
              "998     1.0          0.0       0.0  \n",
              "999     0.0          1.0       0.0  \n",
              "\n",
              "[1000 rows x 53 columns]"
            ],
            "text/html": [
              "\n",
              "  <div id=\"df-a837c162-0692-44a3-b590-fa0b6ce25b80\">\n",
              "    <div class=\"colab-df-container\">\n",
              "      <div>\n",
              "<style scoped>\n",
              "    .dataframe tbody tr th:only-of-type {\n",
              "        vertical-align: middle;\n",
              "    }\n",
              "\n",
              "    .dataframe tbody tr th {\n",
              "        vertical-align: top;\n",
              "    }\n",
              "\n",
              "    .dataframe thead th {\n",
              "        text-align: right;\n",
              "    }\n",
              "</style>\n",
              "<table border=\"1\" class=\"dataframe\">\n",
              "  <thead>\n",
              "    <tr style=\"text-align: right;\">\n",
              "      <th></th>\n",
              "      <th>EMI_rate_in_percentage_of_disposable_income</th>\n",
              "      <th>Has_coapplicant</th>\n",
              "      <th>Has_guarantor</th>\n",
              "      <th>Number_of_existing_loans_at_this_bank</th>\n",
              "      <th>high_risk_applicant</th>\n",
              "      <th>Number_of_dependents</th>\n",
              "      <th>Years_at_current_residence</th>\n",
              "      <th>Foreign_worker</th>\n",
              "      <th>Months_loan_taken_for</th>\n",
              "      <th>Principal_loan_amount</th>\n",
              "      <th>...</th>\n",
              "      <th>H_4 years</th>\n",
              "      <th>H_0 year</th>\n",
              "      <th>H_4 years</th>\n",
              "      <th>H_7 years</th>\n",
              "      <th>H_0 year</th>\n",
              "      <th>H_1 year</th>\n",
              "      <th>S_Low</th>\n",
              "      <th>S_High</th>\n",
              "      <th>S_Very high</th>\n",
              "      <th>S_Medium</th>\n",
              "    </tr>\n",
              "  </thead>\n",
              "  <tbody>\n",
              "    <tr>\n",
              "      <th>0</th>\n",
              "      <td>4</td>\n",
              "      <td>0</td>\n",
              "      <td>0</td>\n",
              "      <td>2</td>\n",
              "      <td>0</td>\n",
              "      <td>1</td>\n",
              "      <td>4</td>\n",
              "      <td>1</td>\n",
              "      <td>-1.864869</td>\n",
              "      <td>-0.933901</td>\n",
              "      <td>...</td>\n",
              "      <td>0.0</td>\n",
              "      <td>1.0</td>\n",
              "      <td>0.0</td>\n",
              "      <td>0.0</td>\n",
              "      <td>1.0</td>\n",
              "      <td>0.0</td>\n",
              "      <td>0.0</td>\n",
              "      <td>1.0</td>\n",
              "      <td>0.0</td>\n",
              "      <td>0.0</td>\n",
              "    </tr>\n",
              "    <tr>\n",
              "      <th>1</th>\n",
              "      <td>2</td>\n",
              "      <td>0</td>\n",
              "      <td>0</td>\n",
              "      <td>1</td>\n",
              "      <td>1</td>\n",
              "      <td>1</td>\n",
              "      <td>2</td>\n",
              "      <td>1</td>\n",
              "      <td>1.708369</td>\n",
              "      <td>1.163046</td>\n",
              "      <td>...</td>\n",
              "      <td>0.0</td>\n",
              "      <td>0.0</td>\n",
              "      <td>0.0</td>\n",
              "      <td>0.0</td>\n",
              "      <td>1.0</td>\n",
              "      <td>0.0</td>\n",
              "      <td>0.0</td>\n",
              "      <td>1.0</td>\n",
              "      <td>0.0</td>\n",
              "      <td>0.0</td>\n",
              "    </tr>\n",
              "    <tr>\n",
              "      <th>2</th>\n",
              "      <td>2</td>\n",
              "      <td>0</td>\n",
              "      <td>0</td>\n",
              "      <td>1</td>\n",
              "      <td>0</td>\n",
              "      <td>2</td>\n",
              "      <td>3</td>\n",
              "      <td>1</td>\n",
              "      <td>-0.673790</td>\n",
              "      <td>-0.181559</td>\n",
              "      <td>...</td>\n",
              "      <td>1.0</td>\n",
              "      <td>0.0</td>\n",
              "      <td>0.0</td>\n",
              "      <td>0.0</td>\n",
              "      <td>0.0</td>\n",
              "      <td>1.0</td>\n",
              "      <td>0.0</td>\n",
              "      <td>1.0</td>\n",
              "      <td>0.0</td>\n",
              "      <td>0.0</td>\n",
              "    </tr>\n",
              "    <tr>\n",
              "      <th>3</th>\n",
              "      <td>2</td>\n",
              "      <td>0</td>\n",
              "      <td>1</td>\n",
              "      <td>1</td>\n",
              "      <td>0</td>\n",
              "      <td>2</td>\n",
              "      <td>4</td>\n",
              "      <td>1</td>\n",
              "      <td>1.478913</td>\n",
              "      <td>1.525148</td>\n",
              "      <td>...</td>\n",
              "      <td>1.0</td>\n",
              "      <td>0.0</td>\n",
              "      <td>0.0</td>\n",
              "      <td>0.0</td>\n",
              "      <td>0.0</td>\n",
              "      <td>1.0</td>\n",
              "      <td>0.0</td>\n",
              "      <td>1.0</td>\n",
              "      <td>0.0</td>\n",
              "      <td>0.0</td>\n",
              "    </tr>\n",
              "    <tr>\n",
              "      <th>4</th>\n",
              "      <td>3</td>\n",
              "      <td>0</td>\n",
              "      <td>0</td>\n",
              "      <td>2</td>\n",
              "      <td>1</td>\n",
              "      <td>2</td>\n",
              "      <td>4</td>\n",
              "      <td>1</td>\n",
              "      <td>0.517289</td>\n",
              "      <td>0.904743</td>\n",
              "      <td>...</td>\n",
              "      <td>0.0</td>\n",
              "      <td>0.0</td>\n",
              "      <td>0.0</td>\n",
              "      <td>0.0</td>\n",
              "      <td>1.0</td>\n",
              "      <td>0.0</td>\n",
              "      <td>0.0</td>\n",
              "      <td>1.0</td>\n",
              "      <td>0.0</td>\n",
              "      <td>0.0</td>\n",
              "    </tr>\n",
              "    <tr>\n",
              "      <th>...</th>\n",
              "      <td>...</td>\n",
              "      <td>...</td>\n",
              "      <td>...</td>\n",
              "      <td>...</td>\n",
              "      <td>...</td>\n",
              "      <td>...</td>\n",
              "      <td>...</td>\n",
              "      <td>...</td>\n",
              "      <td>...</td>\n",
              "      <td>...</td>\n",
              "      <td>...</td>\n",
              "      <td>...</td>\n",
              "      <td>...</td>\n",
              "      <td>...</td>\n",
              "      <td>...</td>\n",
              "      <td>...</td>\n",
              "      <td>...</td>\n",
              "      <td>...</td>\n",
              "      <td>...</td>\n",
              "      <td>...</td>\n",
              "      <td>...</td>\n",
              "    </tr>\n",
              "    <tr>\n",
              "      <th>995</th>\n",
              "      <td>3</td>\n",
              "      <td>0</td>\n",
              "      <td>0</td>\n",
              "      <td>1</td>\n",
              "      <td>0</td>\n",
              "      <td>1</td>\n",
              "      <td>4</td>\n",
              "      <td>1</td>\n",
              "      <td>-0.673790</td>\n",
              "      <td>-0.424376</td>\n",
              "      <td>...</td>\n",
              "      <td>1.0</td>\n",
              "      <td>0.0</td>\n",
              "      <td>0.0</td>\n",
              "      <td>0.0</td>\n",
              "      <td>0.0</td>\n",
              "      <td>1.0</td>\n",
              "      <td>0.0</td>\n",
              "      <td>1.0</td>\n",
              "      <td>0.0</td>\n",
              "      <td>0.0</td>\n",
              "    </tr>\n",
              "    <tr>\n",
              "      <th>996</th>\n",
              "      <td>4</td>\n",
              "      <td>0</td>\n",
              "      <td>0</td>\n",
              "      <td>1</td>\n",
              "      <td>0</td>\n",
              "      <td>1</td>\n",
              "      <td>4</td>\n",
              "      <td>1</td>\n",
              "      <td>0.900731</td>\n",
              "      <td>0.604255</td>\n",
              "      <td>...</td>\n",
              "      <td>0.0</td>\n",
              "      <td>0.0</td>\n",
              "      <td>0.0</td>\n",
              "      <td>0.0</td>\n",
              "      <td>1.0</td>\n",
              "      <td>0.0</td>\n",
              "      <td>0.0</td>\n",
              "      <td>1.0</td>\n",
              "      <td>0.0</td>\n",
              "      <td>0.0</td>\n",
              "    </tr>\n",
              "    <tr>\n",
              "      <th>997</th>\n",
              "      <td>4</td>\n",
              "      <td>0</td>\n",
              "      <td>0</td>\n",
              "      <td>1</td>\n",
              "      <td>0</td>\n",
              "      <td>1</td>\n",
              "      <td>4</td>\n",
              "      <td>1</td>\n",
              "      <td>-0.673790</td>\n",
              "      <td>-1.416199</td>\n",
              "      <td>...</td>\n",
              "      <td>0.0</td>\n",
              "      <td>1.0</td>\n",
              "      <td>0.0</td>\n",
              "      <td>0.0</td>\n",
              "      <td>1.0</td>\n",
              "      <td>0.0</td>\n",
              "      <td>0.0</td>\n",
              "      <td>1.0</td>\n",
              "      <td>0.0</td>\n",
              "      <td>0.0</td>\n",
              "    </tr>\n",
              "    <tr>\n",
              "      <th>998</th>\n",
              "      <td>4</td>\n",
              "      <td>0</td>\n",
              "      <td>0</td>\n",
              "      <td>1</td>\n",
              "      <td>1</td>\n",
              "      <td>1</td>\n",
              "      <td>4</td>\n",
              "      <td>1</td>\n",
              "      <td>1.597468</td>\n",
              "      <td>-0.345911</td>\n",
              "      <td>...</td>\n",
              "      <td>0.0</td>\n",
              "      <td>0.0</td>\n",
              "      <td>0.0</td>\n",
              "      <td>0.0</td>\n",
              "      <td>1.0</td>\n",
              "      <td>0.0</td>\n",
              "      <td>0.0</td>\n",
              "      <td>1.0</td>\n",
              "      <td>0.0</td>\n",
              "      <td>0.0</td>\n",
              "    </tr>\n",
              "    <tr>\n",
              "      <th>999</th>\n",
              "      <td>3</td>\n",
              "      <td>0</td>\n",
              "      <td>0</td>\n",
              "      <td>1</td>\n",
              "      <td>0</td>\n",
              "      <td>1</td>\n",
              "      <td>4</td>\n",
              "      <td>1</td>\n",
              "      <td>1.597468</td>\n",
              "      <td>0.824508</td>\n",
              "      <td>...</td>\n",
              "      <td>0.0</td>\n",
              "      <td>0.0</td>\n",
              "      <td>1.0</td>\n",
              "      <td>0.0</td>\n",
              "      <td>0.0</td>\n",
              "      <td>0.0</td>\n",
              "      <td>0.0</td>\n",
              "      <td>0.0</td>\n",
              "      <td>1.0</td>\n",
              "      <td>0.0</td>\n",
              "    </tr>\n",
              "  </tbody>\n",
              "</table>\n",
              "<p>1000 rows × 53 columns</p>\n",
              "</div>\n",
              "      <button class=\"colab-df-convert\" onclick=\"convertToInteractive('df-a837c162-0692-44a3-b590-fa0b6ce25b80')\"\n",
              "              title=\"Convert this dataframe to an interactive table.\"\n",
              "              style=\"display:none;\">\n",
              "        \n",
              "  <svg xmlns=\"http://www.w3.org/2000/svg\" height=\"24px\"viewBox=\"0 0 24 24\"\n",
              "       width=\"24px\">\n",
              "    <path d=\"M0 0h24v24H0V0z\" fill=\"none\"/>\n",
              "    <path d=\"M18.56 5.44l.94 2.06.94-2.06 2.06-.94-2.06-.94-.94-2.06-.94 2.06-2.06.94zm-11 1L8.5 8.5l.94-2.06 2.06-.94-2.06-.94L8.5 2.5l-.94 2.06-2.06.94zm10 10l.94 2.06.94-2.06 2.06-.94-2.06-.94-.94-2.06-.94 2.06-2.06.94z\"/><path d=\"M17.41 7.96l-1.37-1.37c-.4-.4-.92-.59-1.43-.59-.52 0-1.04.2-1.43.59L10.3 9.45l-7.72 7.72c-.78.78-.78 2.05 0 2.83L4 21.41c.39.39.9.59 1.41.59.51 0 1.02-.2 1.41-.59l7.78-7.78 2.81-2.81c.8-.78.8-2.07 0-2.86zM5.41 20L4 18.59l7.72-7.72 1.47 1.35L5.41 20z\"/>\n",
              "  </svg>\n",
              "      </button>\n",
              "      \n",
              "  <style>\n",
              "    .colab-df-container {\n",
              "      display:flex;\n",
              "      flex-wrap:wrap;\n",
              "      gap: 12px;\n",
              "    }\n",
              "\n",
              "    .colab-df-convert {\n",
              "      background-color: #E8F0FE;\n",
              "      border: none;\n",
              "      border-radius: 50%;\n",
              "      cursor: pointer;\n",
              "      display: none;\n",
              "      fill: #1967D2;\n",
              "      height: 32px;\n",
              "      padding: 0 0 0 0;\n",
              "      width: 32px;\n",
              "    }\n",
              "\n",
              "    .colab-df-convert:hover {\n",
              "      background-color: #E2EBFA;\n",
              "      box-shadow: 0px 1px 2px rgba(60, 64, 67, 0.3), 0px 1px 3px 1px rgba(60, 64, 67, 0.15);\n",
              "      fill: #174EA6;\n",
              "    }\n",
              "\n",
              "    [theme=dark] .colab-df-convert {\n",
              "      background-color: #3B4455;\n",
              "      fill: #D2E3FC;\n",
              "    }\n",
              "\n",
              "    [theme=dark] .colab-df-convert:hover {\n",
              "      background-color: #434B5C;\n",
              "      box-shadow: 0px 1px 3px 1px rgba(0, 0, 0, 0.15);\n",
              "      filter: drop-shadow(0px 1px 2px rgba(0, 0, 0, 0.3));\n",
              "      fill: #FFFFFF;\n",
              "    }\n",
              "  </style>\n",
              "\n",
              "      <script>\n",
              "        const buttonEl =\n",
              "          document.querySelector('#df-a837c162-0692-44a3-b590-fa0b6ce25b80 button.colab-df-convert');\n",
              "        buttonEl.style.display =\n",
              "          google.colab.kernel.accessAllowed ? 'block' : 'none';\n",
              "\n",
              "        async function convertToInteractive(key) {\n",
              "          const element = document.querySelector('#df-a837c162-0692-44a3-b590-fa0b6ce25b80');\n",
              "          const dataTable =\n",
              "            await google.colab.kernel.invokeFunction('convertToInteractive',\n",
              "                                                     [key], {});\n",
              "          if (!dataTable) return;\n",
              "\n",
              "          const docLinkHtml = 'Like what you see? Visit the ' +\n",
              "            '<a target=\"_blank\" href=https://colab.research.google.com/notebooks/data_table.ipynb>data table notebook</a>'\n",
              "            + ' to learn more about interactive tables.';\n",
              "          element.innerHTML = '';\n",
              "          dataTable['output_type'] = 'display_data';\n",
              "          await google.colab.output.renderOutput(dataTable, element);\n",
              "          const docLink = document.createElement('div');\n",
              "          docLink.innerHTML = docLinkHtml;\n",
              "          element.appendChild(docLink);\n",
              "        }\n",
              "      </script>\n",
              "    </div>\n",
              "  </div>\n",
              "  "
            ]
          },
          "metadata": {},
          "execution_count": 23
        }
      ]
    },
    {
      "cell_type": "markdown",
      "source": [
        "Perform train test split"
      ],
      "metadata": {
        "id": "iHHXDJ-mk9n5"
      }
    },
    {
      "cell_type": "code",
      "source": [
        "X = df_final.drop('high_risk_applicant', 1).values\n",
        "y = df_final[\"high_risk_applicant\"].values\n",
        "X_train, X_test, y_train, y_test = train_test_split(X, y, test_size = 0.25, random_state=42)"
      ],
      "metadata": {
        "colab": {
          "base_uri": "https://localhost:8080/"
        },
        "id": "X7Cc-L3dn1qC",
        "outputId": "d4dc3033-becc-4a7e-d15a-6592abe1a099"
      },
      "execution_count": null,
      "outputs": [
        {
          "output_type": "stream",
          "name": "stderr",
          "text": [
            "<ipython-input-24-b25aee1a98c8>:1: FutureWarning: In a future version of pandas all arguments of DataFrame.drop except for the argument 'labels' will be keyword-only\n",
            "  X = df_final.drop('high_risk_applicant', 1).values\n"
          ]
        }
      ]
    },
    {
      "cell_type": "code",
      "source": [
        "X_train.shape, X_test.shape, y_train.shape, y_test.shape"
      ],
      "metadata": {
        "colab": {
          "base_uri": "https://localhost:8080/"
        },
        "id": "Mp3XFj9ioNJv",
        "outputId": "86037fad-5acc-4fb7-a9a1-e017dafebad7"
      },
      "execution_count": null,
      "outputs": [
        {
          "output_type": "execute_result",
          "data": {
            "text/plain": [
              "((750, 52), (250, 52), (750,), (250,))"
            ]
          },
          "metadata": {},
          "execution_count": 25
        }
      ]
    },
    {
      "cell_type": "markdown",
      "source": [
        "<a name=\"3\"></a>\n",
        "Training multiple models to check which one performs best."
      ],
      "metadata": {
        "id": "EaooAisjlEdo"
      }
    },
    {
      "cell_type": "code",
      "source": [
        "# to feed the random state\n",
        "seed = 7\n",
        "\n",
        "# prepare models\n",
        "models = []\n",
        "models.append(('LR', LogisticRegression()))\n",
        "models.append(('LDA', LinearDiscriminantAnalysis()))\n",
        "models.append(('KNN', KNeighborsClassifier()))\n",
        "models.append(('CART', DecisionTreeClassifier()))\n",
        "models.append(('NB', GaussianNB()))\n",
        "models.append(('RF', RandomForestClassifier()))\n",
        "models.append(('SVM', SVC(gamma='auto')))\n",
        "models.append(('XGB', XGBClassifier()))\n",
        "\n",
        "# evaluate each model in turn\n",
        "results = []\n",
        "names = []\n",
        "scoring = 'recall'\n",
        "\n",
        "for name, model in models:\n",
        "        kfold = KFold(n_splits=10, random_state=seed,shuffle=True)\n",
        "        cv_results = cross_val_score(model, X_train, y_train, cv=kfold, scoring=scoring)\n",
        "        results.append(cv_results)\n",
        "        names.append(name)\n",
        "        msg = \"%s: %f (%f)\" % (name, cv_results.mean(), cv_results.std())\n",
        "        print(msg)\n",
        "        \n",
        "# boxplot algorithm comparison\n",
        "fig = plt.figure(figsize=(11,6))\n",
        "fig.suptitle('Algorithm Comparison')\n",
        "ax = fig.add_subplot(111)\n",
        "plt.boxplot(results)\n",
        "ax.set_xticklabels(names)\n",
        "plt.show()"
      ],
      "metadata": {
        "colab": {
          "base_uri": "https://localhost:8080/",
          "height": 1000
        },
        "id": "CVmxlPxKoWp0",
        "outputId": "1c7d8b28-c548-4fc3-ca2d-365232ea522a"
      },
      "execution_count": null,
      "outputs": [
        {
          "output_type": "stream",
          "name": "stderr",
          "text": [
            "/usr/local/lib/python3.8/dist-packages/sklearn/linear_model/_logistic.py:814: ConvergenceWarning: lbfgs failed to converge (status=1):\n",
            "STOP: TOTAL NO. of ITERATIONS REACHED LIMIT.\n",
            "\n",
            "Increase the number of iterations (max_iter) or scale the data as shown in:\n",
            "    https://scikit-learn.org/stable/modules/preprocessing.html\n",
            "Please also refer to the documentation for alternative solver options:\n",
            "    https://scikit-learn.org/stable/modules/linear_model.html#logistic-regression\n",
            "  n_iter_i = _check_optimize_result(\n",
            "/usr/local/lib/python3.8/dist-packages/sklearn/linear_model/_logistic.py:814: ConvergenceWarning: lbfgs failed to converge (status=1):\n",
            "STOP: TOTAL NO. of ITERATIONS REACHED LIMIT.\n",
            "\n",
            "Increase the number of iterations (max_iter) or scale the data as shown in:\n",
            "    https://scikit-learn.org/stable/modules/preprocessing.html\n",
            "Please also refer to the documentation for alternative solver options:\n",
            "    https://scikit-learn.org/stable/modules/linear_model.html#logistic-regression\n",
            "  n_iter_i = _check_optimize_result(\n",
            "/usr/local/lib/python3.8/dist-packages/sklearn/linear_model/_logistic.py:814: ConvergenceWarning: lbfgs failed to converge (status=1):\n",
            "STOP: TOTAL NO. of ITERATIONS REACHED LIMIT.\n",
            "\n",
            "Increase the number of iterations (max_iter) or scale the data as shown in:\n",
            "    https://scikit-learn.org/stable/modules/preprocessing.html\n",
            "Please also refer to the documentation for alternative solver options:\n",
            "    https://scikit-learn.org/stable/modules/linear_model.html#logistic-regression\n",
            "  n_iter_i = _check_optimize_result(\n",
            "/usr/local/lib/python3.8/dist-packages/sklearn/linear_model/_logistic.py:814: ConvergenceWarning: lbfgs failed to converge (status=1):\n",
            "STOP: TOTAL NO. of ITERATIONS REACHED LIMIT.\n",
            "\n",
            "Increase the number of iterations (max_iter) or scale the data as shown in:\n",
            "    https://scikit-learn.org/stable/modules/preprocessing.html\n",
            "Please also refer to the documentation for alternative solver options:\n",
            "    https://scikit-learn.org/stable/modules/linear_model.html#logistic-regression\n",
            "  n_iter_i = _check_optimize_result(\n",
            "/usr/local/lib/python3.8/dist-packages/sklearn/linear_model/_logistic.py:814: ConvergenceWarning: lbfgs failed to converge (status=1):\n",
            "STOP: TOTAL NO. of ITERATIONS REACHED LIMIT.\n",
            "\n",
            "Increase the number of iterations (max_iter) or scale the data as shown in:\n",
            "    https://scikit-learn.org/stable/modules/preprocessing.html\n",
            "Please also refer to the documentation for alternative solver options:\n",
            "    https://scikit-learn.org/stable/modules/linear_model.html#logistic-regression\n",
            "  n_iter_i = _check_optimize_result(\n",
            "/usr/local/lib/python3.8/dist-packages/sklearn/linear_model/_logistic.py:814: ConvergenceWarning: lbfgs failed to converge (status=1):\n",
            "STOP: TOTAL NO. of ITERATIONS REACHED LIMIT.\n",
            "\n",
            "Increase the number of iterations (max_iter) or scale the data as shown in:\n",
            "    https://scikit-learn.org/stable/modules/preprocessing.html\n",
            "Please also refer to the documentation for alternative solver options:\n",
            "    https://scikit-learn.org/stable/modules/linear_model.html#logistic-regression\n",
            "  n_iter_i = _check_optimize_result(\n"
          ]
        },
        {
          "output_type": "stream",
          "name": "stdout",
          "text": [
            "LR: 0.326385 (0.094289)\n",
            "LDA: 0.365899 (0.092384)\n",
            "KNN: 0.287021 (0.067615)\n",
            "CART: 0.447521 (0.095784)\n",
            "NB: 0.628818 (0.134508)\n",
            "RF: 0.273933 (0.079039)\n",
            "SVM: 0.005000 (0.015000)\n",
            "XGB: 0.298347 (0.078281)\n"
          ]
        },
        {
          "output_type": "display_data",
          "data": {
            "text/plain": [
              "<Figure size 792x432 with 1 Axes>"
            ],
            "image/png": "[encoded data removed]"
          },
          "metadata": {
            "needs_background": "light"
          }
        }
      ]
    },
    {
      "cell_type": "markdown",
      "source": [
        "As we can clearly see that Gaussian Naive Bayes (GaussianNB) performs the best with recall score of 0.62.\n",
        "So we will try to tune it for better results."
      ],
      "metadata": {
        "id": "GGFH5IkjlS7g"
      }
    },
    {
      "cell_type": "markdown",
      "source": [
        "Train model on complete dataset"
      ],
      "metadata": {
        "id": "6l0SbQSOlxLF"
      }
    },
    {
      "cell_type": "code",
      "source": [
        "GNB = GaussianNB()\n",
        "model = GNB.fit(X_train, y_train)"
      ],
      "metadata": {
        "id": "Zf9h13v8onU1"
      },
      "execution_count": null,
      "outputs": []
    },
    {
      "cell_type": "code",
      "source": [
        "print(\"Training score data: \")\n",
        "print(model.score(X_train, y_train))"
      ],
      "metadata": {
        "colab": {
          "base_uri": "https://localhost:8080/"
        },
        "id": "xHAVbXWz9kAk",
        "outputId": "d2368597-b8b7-4d2a-b0f3-c191529cad27"
      },
      "execution_count": null,
      "outputs": [
        {
          "output_type": "stream",
          "name": "stdout",
          "text": [
            "Training score data: \n",
            "0.6933333333333334\n"
          ]
        }
      ]
    },
    {
      "cell_type": "markdown",
      "source": [
        "Testing trained model"
      ],
      "metadata": {
        "id": "FtjjvBFtl2Uh"
      }
    },
    {
      "cell_type": "code",
      "source": [
        "y_pred = model.predict(X_test)\n",
        "\n",
        "print(accuracy_score(y_test,y_pred))\n",
        "print(\"\\n\")\n",
        "print(confusion_matrix(y_test, y_pred))\n",
        "print(\"\\n\")\n",
        "print(classification_report(y_test, y_pred))"
      ],
      "metadata": {
        "colab": {
          "base_uri": "https://localhost:8080/"
        },
        "id": "AdAgPh6e9m12",
        "outputId": "3104fc97-2fcc-4db6-d471-4aa83222445d"
      },
      "execution_count": null,
      "outputs": [
        {
          "output_type": "stream",
          "name": "stdout",
          "text": [
            "0.632\n",
            "\n",
            "\n",
            "[[117  61]\n",
            " [ 31  41]]\n",
            "\n",
            "\n",
            "              precision    recall  f1-score   support\n",
            "\n",
            "           0       0.79      0.66      0.72       178\n",
            "           1       0.40      0.57      0.47        72\n",
            "\n",
            "    accuracy                           0.63       250\n",
            "   macro avg       0.60      0.61      0.59       250\n",
            "weighted avg       0.68      0.63      0.65       250\n",
            "\n"
          ]
        }
      ]
    },
    {
      "cell_type": "markdown",
      "source": [
        "<a name=\"4\"></a>\n",
        "Tuning model to get better results."
      ],
      "metadata": {
        "id": "GY854W-Ql6dh"
      }
    },
    {
      "cell_type": "code",
      "source": [
        "features = []\n",
        "features.append(('pca', PCA(n_components=2))) #PCA to reduce dimensions\n",
        "features.append(('select_best', SelectKBest(k=6))) #select 6 Best scores, scored using default f_classif scoring function.\n",
        "feature_union = FeatureUnion(features)\n",
        "# create pipeline\n",
        "estimators = []\n",
        "estimators.append(('feature_union', feature_union)) #perform feature selection\n",
        "estimators.append(('logistic', GaussianNB())) #fit to model\n",
        "model = Pipeline(estimators)\n",
        "# evaluate pipeline\n",
        "seed = 7\n",
        "kfold = KFold(n_splits=10, random_state=seed, shuffle=True)\n",
        "results = cross_val_score(model, X_train, y_train, cv=kfold)\n",
        "print(results.mean())"
      ],
      "metadata": {
        "colab": {
          "base_uri": "https://localhost:8080/"
        },
        "id": "dlAOBS17-CXr",
        "outputId": "f94d5d20-e16c-4d85-fe56-8fc3ddc2f24f"
      },
      "execution_count": null,
      "outputs": [
        {
          "output_type": "stream",
          "name": "stdout",
          "text": [
            "0.6973333333333334\n"
          ]
        }
      ]
    },
    {
      "cell_type": "code",
      "source": [
        "model.fit(X_train, y_train)\n",
        "print(\"Train score data: \")\n",
        "print(model.score(X_train, y_train))\n",
        "\n",
        "y_pred = model.predict(X_test)\n",
        "print(\"Test score data: \")\n",
        "print(accuracy_score(y_test,y_pred))\n",
        "print(confusion_matrix(y_test, y_pred))"
      ],
      "metadata": {
        "colab": {
          "base_uri": "https://localhost:8080/"
        },
        "id": "FXleh4EN-Ess",
        "outputId": "43079427-b861-41d3-e3da-ddc0725aafc5"
      },
      "execution_count": null,
      "outputs": [
        {
          "output_type": "stream",
          "name": "stdout",
          "text": [
            "Train score data: \n",
            "0.7146666666666667\n",
            "Test score data: \n",
            "0.68\n",
            "[[156  22]\n",
            " [ 58  14]]\n"
          ]
        }
      ]
    },
    {
      "cell_type": "markdown",
      "source": [
        "We managed to get accuracy of 71% on training and 68% on testing. This can be improved further but for now we will moving forward with this model onto deployment stage."
      ],
      "metadata": {
        "id": "eUdjsuVnmBHU"
      }
    },
    {
      "cell_type": "markdown",
      "source": [
        "Saving required files"
      ],
      "metadata": {
        "id": "9ttK-n4HmRyk"
      }
    },
    {
      "cell_type": "code",
      "source": [
        "df_final.to_csv('clean_final.csv')\n",
        "dump(scaler,'std_scaler.joblib')\n",
        "dump(oh_encoder, 'oh_encoder.joblib')\n",
        "dump(model, 'model_file.joblib')"
      ],
      "metadata": {
        "colab": {
          "base_uri": "https://localhost:8080/"
        },
        "id": "SktHHYfvb-0J",
        "outputId": "b0a1ca0a-8ad7-4ca9-b9c9-b4253057300a"
      },
      "execution_count": null,
      "outputs": [
        {
          "output_type": "execute_result",
          "data": {
            "text/plain": [
              "['model_file.joblib']"
            ]
          },
          "metadata": {},
          "execution_count": 36
        }
      ]
    },
    {
      "cell_type": "markdown",
      "source": [
        "<a name=\"5\"></a>\n",
        "### Deployment Test"
      ],
      "metadata": {
        "id": "V5E-CfXjmVWO"
      }
    },
    {
      "cell_type": "markdown",
      "source": [
        "preprocess to get deployment like input i.e. in JSON format"
      ],
      "metadata": {
        "id": "OLSlFDAp4J6G"
      }
    },
    {
      "cell_type": "code",
      "source": [
        "df_loan = pd.read_csv('/content/loan.csv')\n",
        "df_app = pd.read_csv('/content/applicant.csv')\n",
        "temp_df = pd.merge(df_loan, df_app, on=\"applicant_id\")\n",
        "temp_df = dict(temp_df.loc[2,:])"
      ],
      "metadata": {
        "id": "BKYIV4qKduyo"
      },
      "execution_count": null,
      "outputs": []
    },
    {
      "cell_type": "code",
      "source": [
        "temp_df"
      ],
      "metadata": {
        "colab": {
          "base_uri": "https://localhost:8080/"
        },
        "id": "w2scedIkfd2q",
        "outputId": "ff635216-2bde-4cb4-9809-b4ddf91a200c"
      },
      "execution_count": null,
      "outputs": [
        {
          "output_type": "execute_result",
          "data": {
            "text/plain": [
              "{'loan_application_id': 'd68d995c-edad-11ea-814a-1b6716782575',\n",
              " 'applicant_id': 1432761,\n",
              " 'Months_loan_taken_for': 12,\n",
              " 'Purpose': 'education',\n",
              " 'Principal_loan_amount': 2096000,\n",
              " 'EMI_rate_in_percentage_of_disposable_income': 2,\n",
              " 'Property': 'real estate',\n",
              " 'Has_coapplicant': 0,\n",
              " 'Has_guarantor': 0,\n",
              " 'Other_EMI_plans': nan,\n",
              " 'Number_of_existing_loans_at_this_bank': 1,\n",
              " 'Loan_history': 'critical/pending loans at other banks',\n",
              " 'high_risk_applicant': 0,\n",
              " 'Primary_applicant_age_in_years': 49,\n",
              " 'Gender': 'male',\n",
              " 'Marital_status': 'single',\n",
              " 'Number_of_dependents': 2,\n",
              " 'Housing': 'own',\n",
              " 'Years_at_current_residence': 3,\n",
              " 'Employment_status': 'unskilled - resident',\n",
              " 'Has_been_employed_for_at_least': '4 years',\n",
              " 'Has_been_employed_for_at_most': '7 years',\n",
              " 'Telephone': nan,\n",
              " 'Foreign_worker': 1,\n",
              " 'Savings_account_balance': 'Low',\n",
              " 'Balance_in_existing_bank_account_(lower_limit_of_bucket)': nan,\n",
              " 'Balance_in_existing_bank_account_(upper_limit_of_bucket)': nan}"
            ]
          },
          "metadata": {},
          "execution_count": 150
        }
      ]
    },
    {
      "cell_type": "code",
      "source": [
        "del_columns=[\"loan_application_id\",\"applicant_id\",\"Other_EMI_plans\", \"Telephone\", \"Balance_in_existing_bank_account_(lower_limit_of_bucket)\", \"Balance_in_existing_bank_account_(upper_limit_of_bucket)\"]\n",
        "for d_c in del_columns:\n",
        "  del temp_df[d_c]"
      ],
      "metadata": {
        "id": "sTTJAxy7dGKf"
      },
      "execution_count": null,
      "outputs": []
    },
    {
      "cell_type": "code",
      "source": [
        "y_true=temp_df['high_risk_applicant']\n",
        "del temp_df['high_risk_applicant']"
      ],
      "metadata": {
        "id": "O1035-DRiGSp"
      },
      "execution_count": null,
      "outputs": []
    },
    {
      "cell_type": "code",
      "source": [
        "temp_df"
      ],
      "metadata": {
        "colab": {
          "base_uri": "https://localhost:8080/"
        },
        "id": "sQearN5EilGs",
        "outputId": "166f88b8-c980-4294-d880-80f4d5aa1150"
      },
      "execution_count": null,
      "outputs": [
        {
          "output_type": "execute_result",
          "data": {
            "text/plain": [
              "{'Months_loan_taken_for': 12,\n",
              " 'Purpose': 'education',\n",
              " 'Principal_loan_amount': 2096000,\n",
              " 'EMI_rate_in_percentage_of_disposable_income': 2,\n",
              " 'Property': 'real estate',\n",
              " 'Has_coapplicant': 0,\n",
              " 'Has_guarantor': 0,\n",
              " 'Number_of_existing_loans_at_this_bank': 1,\n",
              " 'Loan_history': 'critical/pending loans at other banks',\n",
              " 'Primary_applicant_age_in_years': 49,\n",
              " 'Gender': 'male',\n",
              " 'Marital_status': 'single',\n",
              " 'Number_of_dependents': 2,\n",
              " 'Housing': 'own',\n",
              " 'Years_at_current_residence': 3,\n",
              " 'Employment_status': 'unskilled - resident',\n",
              " 'Has_been_employed_for_at_least': '4 years',\n",
              " 'Has_been_employed_for_at_most': '7 years',\n",
              " 'Foreign_worker': 1,\n",
              " 'Savings_account_balance': 'Low'}"
            ]
          },
          "metadata": {},
          "execution_count": 153
        }
      ]
    },
    {
      "cell_type": "markdown",
      "source": [
        "Above is how we expect our input to be."
      ],
      "metadata": {
        "id": "08KWbh_3mdsA"
      }
    },
    {
      "cell_type": "code",
      "source": [
        "cat_cols=['Purpose',\n",
        "'Property',\n",
        " 'Loan_history',\n",
        " 'Gender',\n",
        " 'Marital_status',\n",
        " 'Housing',\n",
        " 'Employment_status',\n",
        " 'Has_been_employed_for_at_least',\n",
        " 'Has_been_employed_for_at_most',\n",
        " 'Savings_account_balance'\n",
        " ]\n",
        "\n",
        "selected_cols=['Months_loan_taken_for',\n",
        " 'Principal_loan_amount',\n",
        " 'Primary_applicant_age_in_years']\n",
        " \n",
        "other_cols=['EMI_rate_in_percentage_of_disposable_income',\n",
        " 'Has_coapplicant',\n",
        " 'Has_guarantor',\n",
        " 'Number_of_existing_loans_at_this_bank',\n",
        " 'Number_of_dependents',\n",
        " 'Years_at_current_residence',\n",
        " 'Foreign_worker']"
      ],
      "metadata": {
        "id": "XQBkHl3NimZ3"
      },
      "execution_count": null,
      "outputs": []
    },
    {
      "cell_type": "code",
      "source": [
        "oh_encoder = load('/content/oh_encoder.joblib')\n",
        "std_scaler = load('/content/std_scaler.joblib')\n",
        "model = load('/content/model_file.joblib')"
      ],
      "metadata": {
        "id": "PHjarL__j6yP"
      },
      "execution_count": null,
      "outputs": []
    },
    {
      "cell_type": "code",
      "source": [
        "cat_values=[temp_df[i] for i in cat_cols]\n",
        "selected_val=[temp_df[i] for i in selected_cols]\n",
        "X=[temp_df[i] for i in other_cols]"
      ],
      "metadata": {
        "id": "lf03ClSLktIl"
      },
      "execution_count": null,
      "outputs": []
    },
    {
      "cell_type": "code",
      "source": [
        "oh_encoded=oh_encoder.transform([cat_values])"
      ],
      "metadata": {
        "colab": {
          "base_uri": "https://localhost:8080/"
        },
        "id": "H-thjQ1nkcFq",
        "outputId": "a7b4d25d-1ddd-4933-ed78-e31af1eec0c8"
      },
      "execution_count": null,
      "outputs": [
        {
          "output_type": "stream",
          "name": "stderr",
          "text": [
            "/usr/local/lib/python3.8/dist-packages/sklearn/base.py:450: UserWarning: X does not have valid feature names, but OneHotEncoder was fitted with feature names\n",
            "  warnings.warn(\n"
          ]
        }
      ]
    },
    {
      "cell_type": "code",
      "source": [
        "selected_val=np.log(selected_val)\n",
        "scaled=std_scaler.transform([selected_val])"
      ],
      "metadata": {
        "colab": {
          "base_uri": "https://localhost:8080/"
        },
        "id": "w-OeRq6akpfJ",
        "outputId": "096fd02f-3cae-48d4-dc13-f965523f2e1a"
      },
      "execution_count": null,
      "outputs": [
        {
          "output_type": "stream",
          "name": "stderr",
          "text": [
            "/usr/local/lib/python3.8/dist-packages/sklearn/base.py:450: UserWarning: X does not have valid feature names, but StandardScaler was fitted with feature names\n",
            "  warnings.warn(\n"
          ]
        }
      ]
    },
    {
      "cell_type": "code",
      "source": [
        "X.extend(scaled[0])\n",
        "X.extend(oh_encoded[0])"
      ],
      "metadata": {
        "id": "eizCQ4N8mLul"
      },
      "execution_count": null,
      "outputs": []
    },
    {
      "cell_type": "code",
      "source": [
        "X=np.array(X)\n",
        "X=X.reshape(1,-1)\n",
        "y_pred=model.predict(X)\n",
        "print(\"Predicted vaues is:\")\n",
        "print(y_pred[0])\n",
        "print(\"True Value is:\")\n",
        "print(y_true)\n"
      ],
      "metadata": {
        "colab": {
          "base_uri": "https://localhost:8080/"
        },
        "id": "3LOMfUAkmc_y",
        "outputId": "e663471a-8796-4921-9f28-0945c51693a8"
      },
      "execution_count": null,
      "outputs": [
        {
          "output_type": "stream",
          "name": "stdout",
          "text": [
            "Predicted vaues is:\n",
            "0\n",
            "True Value is:\n",
            "0\n"
          ]
        }
      ]
    },
    {
      "cell_type": "markdown",
      "source": [
        "We see our deployment script is working fine, so now we can easily deploy it using any framework. For now I am going forward with FastAPI for deployment files for which are attached."
      ],
      "metadata": {
        "id": "WjbfipgQmpuk"
      }
    }
  ]
}